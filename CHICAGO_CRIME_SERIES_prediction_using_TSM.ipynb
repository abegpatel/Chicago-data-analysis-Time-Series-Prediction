{
  "nbformat": 4,
  "nbformat_minor": 0,
  "metadata": {
    "colab": {
      "name": "CHICAGO-CRIME SERIES-prediction using TSM.ipynb",
      "provenance": [],
      "collapsed_sections": []
    },
    "kernelspec": {
      "name": "python3",
      "display_name": "Python 3"
    },
    "accelerator": "GPU"
  },
  "cells": [
    {
      "cell_type": "markdown",
      "metadata": {
        "id": "D_Cmg0vHr_H-"
      },
      "source": [
        "IMPORTING DATA"
      ]
    },
    {
      "cell_type": "code",
      "metadata": {
        "id": "qrDWaHyzrM_J"
      },
      "source": [
        "import pandas as pd \n",
        "import numpy as np \n",
        "import matplotlib.pyplot as plt\n",
        "import random\n",
        "import seaborn as sns\n",
        "from fbprophet import Prophet"
      ],
      "execution_count": null,
      "outputs": []
    },
    {
      "cell_type": "code",
      "metadata": {
        "id": "UHax2qj0sNWy"
      },
      "source": [
        "chicago_df_1 = pd.read_csv('/content/Chicago_Crimes_2001_to_2004.csv', error_bad_lines=False)\n",
        "chicago_df_2 = pd.read_csv('/content/Chicago_Crimes_2005_to_2007.csv', error_bad_lines=False)\n",
        "chicago_df_3 = pd.read_csv('/content/Chicago_Crimes_2008_to_2011.csv', error_bad_lines=False)\n",
        "chicago_df_4 = pd.read_csv('/content/Chicago_Crimes_2012_to_2017.csv', error_bad_lines=False)\n"
      ],
      "execution_count": null,
      "outputs": []
    },
    {
      "cell_type": "code",
      "metadata": {
        "id": "nmbVqBYAsWP5"
      },
      "source": [
        "chicago_df = pd.concat([chicago_df_1, chicago_df_2, chicago_df_3], ignore_index=False, axis=0)"
      ],
      "execution_count": null,
      "outputs": []
    },
    {
      "cell_type": "markdown",
      "metadata": {
        "id": "S-Zzfnmev5zF"
      },
      "source": [
        "EXPLORE THE DATA"
      ]
    },
    {
      "cell_type": "code",
      "metadata": {
        "colab": {
          "base_uri": "https://localhost:8080/",
          "height": 716
        },
        "id": "ToKulC6DulxZ",
        "outputId": "d2332519-09b6-481e-b139-3f583d3ec349"
      },
      "source": [
        "chicago_df.head(10)"
      ],
      "execution_count": null,
      "outputs": [
        {
          "output_type": "execute_result",
          "data": {
            "text/html": [
              "<div>\n",
              "<style scoped>\n",
              "    .dataframe tbody tr th:only-of-type {\n",
              "        vertical-align: middle;\n",
              "    }\n",
              "\n",
              "    .dataframe tbody tr th {\n",
              "        vertical-align: top;\n",
              "    }\n",
              "\n",
              "    .dataframe thead th {\n",
              "        text-align: right;\n",
              "    }\n",
              "</style>\n",
              "<table border=\"1\" class=\"dataframe\">\n",
              "  <thead>\n",
              "    <tr style=\"text-align: right;\">\n",
              "      <th></th>\n",
              "      <th>Unnamed: 0</th>\n",
              "      <th>ID</th>\n",
              "      <th>Case Number</th>\n",
              "      <th>Date</th>\n",
              "      <th>Block</th>\n",
              "      <th>IUCR</th>\n",
              "      <th>Primary Type</th>\n",
              "      <th>Description</th>\n",
              "      <th>Location Description</th>\n",
              "      <th>Arrest</th>\n",
              "      <th>Domestic</th>\n",
              "      <th>Beat</th>\n",
              "      <th>District</th>\n",
              "      <th>Ward</th>\n",
              "      <th>Community Area</th>\n",
              "      <th>FBI Code</th>\n",
              "      <th>X Coordinate</th>\n",
              "      <th>Y Coordinate</th>\n",
              "      <th>Year</th>\n",
              "      <th>Updated On</th>\n",
              "      <th>Latitude</th>\n",
              "      <th>Longitude</th>\n",
              "      <th>Location</th>\n",
              "    </tr>\n",
              "  </thead>\n",
              "  <tbody>\n",
              "    <tr>\n",
              "      <th>0</th>\n",
              "      <td>879</td>\n",
              "      <td>4786321</td>\n",
              "      <td>HM399414</td>\n",
              "      <td>01/01/2004 12:01:00 AM</td>\n",
              "      <td>082XX S COLES AVE</td>\n",
              "      <td>0840</td>\n",
              "      <td>THEFT</td>\n",
              "      <td>FINANCIAL ID THEFT: OVER $300</td>\n",
              "      <td>RESIDENCE</td>\n",
              "      <td>False</td>\n",
              "      <td>False</td>\n",
              "      <td>424.0</td>\n",
              "      <td>4.0</td>\n",
              "      <td>7.0</td>\n",
              "      <td>46.0</td>\n",
              "      <td>06</td>\n",
              "      <td>NaN</td>\n",
              "      <td>NaN</td>\n",
              "      <td>2004.0</td>\n",
              "      <td>08/17/2015 03:03:40 PM</td>\n",
              "      <td>NaN</td>\n",
              "      <td>NaN</td>\n",
              "      <td>NaN</td>\n",
              "    </tr>\n",
              "    <tr>\n",
              "      <th>1</th>\n",
              "      <td>2544</td>\n",
              "      <td>4676906</td>\n",
              "      <td>HM278933</td>\n",
              "      <td>03/01/2003 12:00:00 AM</td>\n",
              "      <td>004XX W 42ND PL</td>\n",
              "      <td>2825</td>\n",
              "      <td>OTHER OFFENSE</td>\n",
              "      <td>HARASSMENT BY TELEPHONE</td>\n",
              "      <td>RESIDENCE</td>\n",
              "      <td>False</td>\n",
              "      <td>True</td>\n",
              "      <td>935.0</td>\n",
              "      <td>9.0</td>\n",
              "      <td>11.0</td>\n",
              "      <td>61.0</td>\n",
              "      <td>26</td>\n",
              "      <td>1173974.0</td>\n",
              "      <td>1876757.0</td>\n",
              "      <td>2003.0</td>\n",
              "      <td>04/15/2016 08:55:02 AM</td>\n",
              "      <td>41.817229</td>\n",
              "      <td>-87.637328</td>\n",
              "      <td>(41.817229156, -87.637328162)</td>\n",
              "    </tr>\n",
              "    <tr>\n",
              "      <th>2</th>\n",
              "      <td>2919</td>\n",
              "      <td>4789749</td>\n",
              "      <td>HM402220</td>\n",
              "      <td>06/20/2004 11:00:00 AM</td>\n",
              "      <td>025XX N KIMBALL AVE</td>\n",
              "      <td>1752</td>\n",
              "      <td>OFFENSE INVOLVING CHILDREN</td>\n",
              "      <td>AGG CRIM SEX ABUSE FAM MEMBER</td>\n",
              "      <td>RESIDENCE</td>\n",
              "      <td>False</td>\n",
              "      <td>False</td>\n",
              "      <td>1413.0</td>\n",
              "      <td>14.0</td>\n",
              "      <td>35.0</td>\n",
              "      <td>22.0</td>\n",
              "      <td>20</td>\n",
              "      <td>NaN</td>\n",
              "      <td>NaN</td>\n",
              "      <td>2004.0</td>\n",
              "      <td>08/17/2015 03:03:40 PM</td>\n",
              "      <td>NaN</td>\n",
              "      <td>NaN</td>\n",
              "      <td>NaN</td>\n",
              "    </tr>\n",
              "    <tr>\n",
              "      <th>3</th>\n",
              "      <td>2927</td>\n",
              "      <td>4789765</td>\n",
              "      <td>HM402058</td>\n",
              "      <td>12/30/2004 08:00:00 PM</td>\n",
              "      <td>045XX W MONTANA ST</td>\n",
              "      <td>0840</td>\n",
              "      <td>THEFT</td>\n",
              "      <td>FINANCIAL ID THEFT: OVER $300</td>\n",
              "      <td>OTHER</td>\n",
              "      <td>False</td>\n",
              "      <td>False</td>\n",
              "      <td>2521.0</td>\n",
              "      <td>25.0</td>\n",
              "      <td>31.0</td>\n",
              "      <td>20.0</td>\n",
              "      <td>06</td>\n",
              "      <td>NaN</td>\n",
              "      <td>NaN</td>\n",
              "      <td>2004.0</td>\n",
              "      <td>08/17/2015 03:03:40 PM</td>\n",
              "      <td>NaN</td>\n",
              "      <td>NaN</td>\n",
              "      <td>NaN</td>\n",
              "    </tr>\n",
              "    <tr>\n",
              "      <th>4</th>\n",
              "      <td>3302</td>\n",
              "      <td>4677901</td>\n",
              "      <td>HM275615</td>\n",
              "      <td>05/01/2003 01:00:00 AM</td>\n",
              "      <td>111XX S NORMAL AVE</td>\n",
              "      <td>0841</td>\n",
              "      <td>THEFT</td>\n",
              "      <td>FINANCIAL ID THEFT:$300 &amp;UNDER</td>\n",
              "      <td>RESIDENCE</td>\n",
              "      <td>False</td>\n",
              "      <td>False</td>\n",
              "      <td>2233.0</td>\n",
              "      <td>22.0</td>\n",
              "      <td>34.0</td>\n",
              "      <td>49.0</td>\n",
              "      <td>06</td>\n",
              "      <td>1174948.0</td>\n",
              "      <td>1831051.0</td>\n",
              "      <td>2003.0</td>\n",
              "      <td>04/15/2016 08:55:02 AM</td>\n",
              "      <td>41.691785</td>\n",
              "      <td>-87.635116</td>\n",
              "      <td>(41.691784636, -87.635115968)</td>\n",
              "    </tr>\n",
              "    <tr>\n",
              "      <th>5</th>\n",
              "      <td>3633</td>\n",
              "      <td>4838048</td>\n",
              "      <td>HM440266</td>\n",
              "      <td>08/01/2004 12:01:00 AM</td>\n",
              "      <td>012XX S HARDING AVE</td>\n",
              "      <td>0841</td>\n",
              "      <td>THEFT</td>\n",
              "      <td>FINANCIAL ID THEFT:$300 &amp;UNDER</td>\n",
              "      <td>APARTMENT</td>\n",
              "      <td>False</td>\n",
              "      <td>False</td>\n",
              "      <td>1011.0</td>\n",
              "      <td>10.0</td>\n",
              "      <td>24.0</td>\n",
              "      <td>29.0</td>\n",
              "      <td>06</td>\n",
              "      <td>NaN</td>\n",
              "      <td>NaN</td>\n",
              "      <td>2004.0</td>\n",
              "      <td>08/17/2015 03:03:40 PM</td>\n",
              "      <td>NaN</td>\n",
              "      <td>NaN</td>\n",
              "      <td>NaN</td>\n",
              "    </tr>\n",
              "    <tr>\n",
              "      <th>6</th>\n",
              "      <td>3756</td>\n",
              "      <td>4791194</td>\n",
              "      <td>HM403711</td>\n",
              "      <td>01/01/2001 11:00:00 AM</td>\n",
              "      <td>114XX S ST LAWRENCE AVE</td>\n",
              "      <td>0266</td>\n",
              "      <td>CRIM SEXUAL ASSAULT</td>\n",
              "      <td>PREDATORY</td>\n",
              "      <td>RESIDENCE</td>\n",
              "      <td>True</td>\n",
              "      <td>True</td>\n",
              "      <td>531.0</td>\n",
              "      <td>5.0</td>\n",
              "      <td>9.0</td>\n",
              "      <td>50.0</td>\n",
              "      <td>02</td>\n",
              "      <td>1182247.0</td>\n",
              "      <td>1829375.0</td>\n",
              "      <td>2001.0</td>\n",
              "      <td>08/29/2006 03:46:28 AM</td>\n",
              "      <td>41.687020</td>\n",
              "      <td>-87.608445</td>\n",
              "      <td>(41.687020002, -87.60844523)</td>\n",
              "    </tr>\n",
              "    <tr>\n",
              "      <th>7</th>\n",
              "      <td>4502</td>\n",
              "      <td>4679521</td>\n",
              "      <td>HM216293</td>\n",
              "      <td>03/15/2003 12:00:00 AM</td>\n",
              "      <td>090XX S RACINE AVE</td>\n",
              "      <td>5007</td>\n",
              "      <td>OTHER OFFENSE</td>\n",
              "      <td>OTHER WEAPONS VIOLATION</td>\n",
              "      <td>RESIDENCE PORCH/HALLWAY</td>\n",
              "      <td>False</td>\n",
              "      <td>False</td>\n",
              "      <td>2222.0</td>\n",
              "      <td>22.0</td>\n",
              "      <td>21.0</td>\n",
              "      <td>73.0</td>\n",
              "      <td>26</td>\n",
              "      <td>1169911.0</td>\n",
              "      <td>1844832.0</td>\n",
              "      <td>2003.0</td>\n",
              "      <td>04/15/2016 08:55:02 AM</td>\n",
              "      <td>41.729712</td>\n",
              "      <td>-87.653159</td>\n",
              "      <td>(41.729712374, -87.653158513)</td>\n",
              "    </tr>\n",
              "    <tr>\n",
              "      <th>8</th>\n",
              "      <td>4564</td>\n",
              "      <td>4792195</td>\n",
              "      <td>HM405396</td>\n",
              "      <td>09/16/2004 10:00:00 AM</td>\n",
              "      <td>003XX W HUBBARD ST</td>\n",
              "      <td>0890</td>\n",
              "      <td>THEFT</td>\n",
              "      <td>FROM BUILDING</td>\n",
              "      <td>RESIDENCE</td>\n",
              "      <td>False</td>\n",
              "      <td>False</td>\n",
              "      <td>1831.0</td>\n",
              "      <td>18.0</td>\n",
              "      <td>42.0</td>\n",
              "      <td>8.0</td>\n",
              "      <td>06</td>\n",
              "      <td>NaN</td>\n",
              "      <td>NaN</td>\n",
              "      <td>2004.0</td>\n",
              "      <td>08/17/2015 03:03:40 PM</td>\n",
              "      <td>NaN</td>\n",
              "      <td>NaN</td>\n",
              "      <td>NaN</td>\n",
              "    </tr>\n",
              "    <tr>\n",
              "      <th>9</th>\n",
              "      <td>4904</td>\n",
              "      <td>4680124</td>\n",
              "      <td>HM282389</td>\n",
              "      <td>01/01/2003 12:00:00 AM</td>\n",
              "      <td>009XX S SPAULDING AVE</td>\n",
              "      <td>0840</td>\n",
              "      <td>THEFT</td>\n",
              "      <td>FINANCIAL ID THEFT: OVER $300</td>\n",
              "      <td>RESIDENCE</td>\n",
              "      <td>False</td>\n",
              "      <td>False</td>\n",
              "      <td>1134.0</td>\n",
              "      <td>11.0</td>\n",
              "      <td>24.0</td>\n",
              "      <td>29.0</td>\n",
              "      <td>06</td>\n",
              "      <td>1154521.0</td>\n",
              "      <td>1895755.0</td>\n",
              "      <td>2003.0</td>\n",
              "      <td>04/15/2016 08:55:02 AM</td>\n",
              "      <td>41.869772</td>\n",
              "      <td>-87.708180</td>\n",
              "      <td>(41.869772159, -87.708180162)</td>\n",
              "    </tr>\n",
              "  </tbody>\n",
              "</table>\n",
              "</div>"
            ],
            "text/plain": [
              "   Unnamed: 0       ID  ...  Longitude                       Location\n",
              "0         879  4786321  ...        NaN                            NaN\n",
              "1        2544  4676906  ... -87.637328  (41.817229156, -87.637328162)\n",
              "2        2919  4789749  ...        NaN                            NaN\n",
              "3        2927  4789765  ...        NaN                            NaN\n",
              "4        3302  4677901  ... -87.635116  (41.691784636, -87.635115968)\n",
              "5        3633  4838048  ...        NaN                            NaN\n",
              "6        3756  4791194  ... -87.608445   (41.687020002, -87.60844523)\n",
              "7        4502  4679521  ... -87.653159  (41.729712374, -87.653158513)\n",
              "8        4564  4792195  ...        NaN                            NaN\n",
              "9        4904  4680124  ... -87.708180  (41.869772159, -87.708180162)\n",
              "\n",
              "[10 rows x 23 columns]"
            ]
          },
          "metadata": {
            "tags": []
          },
          "execution_count": 11
        }
      ]
    },
    {
      "cell_type": "code",
      "metadata": {
        "colab": {
          "base_uri": "https://localhost:8080/",
          "height": 733
        },
        "id": "6-j2DrWUur4r",
        "outputId": "4c03fadb-79a6-4754-de2a-415abdecc21b"
      },
      "source": [
        "chicago_df.tail(10)"
      ],
      "execution_count": null,
      "outputs": [
        {
          "output_type": "execute_result",
          "data": {
            "text/html": [
              "<div>\n",
              "<style scoped>\n",
              "    .dataframe tbody tr th:only-of-type {\n",
              "        vertical-align: middle;\n",
              "    }\n",
              "\n",
              "    .dataframe tbody tr th {\n",
              "        vertical-align: top;\n",
              "    }\n",
              "\n",
              "    .dataframe thead th {\n",
              "        text-align: right;\n",
              "    }\n",
              "</style>\n",
              "<table border=\"1\" class=\"dataframe\">\n",
              "  <thead>\n",
              "    <tr style=\"text-align: right;\">\n",
              "      <th></th>\n",
              "      <th>Unnamed: 0</th>\n",
              "      <th>ID</th>\n",
              "      <th>Case Number</th>\n",
              "      <th>Date</th>\n",
              "      <th>Block</th>\n",
              "      <th>IUCR</th>\n",
              "      <th>Primary Type</th>\n",
              "      <th>Description</th>\n",
              "      <th>Location Description</th>\n",
              "      <th>Arrest</th>\n",
              "      <th>Domestic</th>\n",
              "      <th>Beat</th>\n",
              "      <th>District</th>\n",
              "      <th>Ward</th>\n",
              "      <th>Community Area</th>\n",
              "      <th>FBI Code</th>\n",
              "      <th>X Coordinate</th>\n",
              "      <th>Y Coordinate</th>\n",
              "      <th>Year</th>\n",
              "      <th>Updated On</th>\n",
              "      <th>Latitude</th>\n",
              "      <th>Longitude</th>\n",
              "      <th>Location</th>\n",
              "    </tr>\n",
              "  </thead>\n",
              "  <tbody>\n",
              "    <tr>\n",
              "      <th>33179</th>\n",
              "      <td>907598</td>\n",
              "      <td>6029757</td>\n",
              "      <td>HP132565</td>\n",
              "      <td>01/17/2008 01:00:00 PM</td>\n",
              "      <td>084XX S BALTIMORE AVE</td>\n",
              "      <td>0486</td>\n",
              "      <td>BATTERY</td>\n",
              "      <td>DOMESTIC BATTERY SIMPLE</td>\n",
              "      <td>RESIDENCE</td>\n",
              "      <td>False</td>\n",
              "      <td>True</td>\n",
              "      <td>423.0</td>\n",
              "      <td>4.0</td>\n",
              "      <td>10.0</td>\n",
              "      <td>46.0</td>\n",
              "      <td>08B</td>\n",
              "      <td>1197482.0</td>\n",
              "      <td>1849708.0</td>\n",
              "      <td>2008.0</td>\n",
              "      <td>02/04/2016 06:33:39 AM</td>\n",
              "      <td>41.742450</td>\n",
              "      <td>-87.551998</td>\n",
              "      <td>(41.742450258, -87.551997603)</td>\n",
              "    </tr>\n",
              "    <tr>\n",
              "      <th>33180</th>\n",
              "      <td>907599</td>\n",
              "      <td>6029758</td>\n",
              "      <td>HP132539</td>\n",
              "      <td>01/19/2008 01:05:00 PM</td>\n",
              "      <td>071XX S HALSTED ST</td>\n",
              "      <td>0486</td>\n",
              "      <td>BATTERY</td>\n",
              "      <td>DOMESTIC BATTERY SIMPLE</td>\n",
              "      <td>GAS STATION</td>\n",
              "      <td>False</td>\n",
              "      <td>True</td>\n",
              "      <td>733.0</td>\n",
              "      <td>7.0</td>\n",
              "      <td>6.0</td>\n",
              "      <td>68.0</td>\n",
              "      <td>08B</td>\n",
              "      <td>1172199.0</td>\n",
              "      <td>1857618.0</td>\n",
              "      <td>2008.0</td>\n",
              "      <td>02/04/2016 06:33:39 AM</td>\n",
              "      <td>41.764749</td>\n",
              "      <td>-87.644402</td>\n",
              "      <td>(41.764748911, -87.644401916)</td>\n",
              "    </tr>\n",
              "    <tr>\n",
              "      <th>33181</th>\n",
              "      <td>907600</td>\n",
              "      <td>6029760</td>\n",
              "      <td>HP123394</td>\n",
              "      <td>01/14/2008 12:55:00 PM</td>\n",
              "      <td>001XX W 108TH PL</td>\n",
              "      <td>1811</td>\n",
              "      <td>NARCOTICS</td>\n",
              "      <td>POSS: CANNABIS 30GMS OR LESS</td>\n",
              "      <td>SCHOOL, PUBLIC, GROUNDS</td>\n",
              "      <td>True</td>\n",
              "      <td>False</td>\n",
              "      <td>513.0</td>\n",
              "      <td>5.0</td>\n",
              "      <td>34.0</td>\n",
              "      <td>49.0</td>\n",
              "      <td>18</td>\n",
              "      <td>1177241.0</td>\n",
              "      <td>1833006.0</td>\n",
              "      <td>2008.0</td>\n",
              "      <td>02/04/2016 06:33:39 AM</td>\n",
              "      <td>41.697098</td>\n",
              "      <td>-87.626662</td>\n",
              "      <td>(41.697098131, -87.626662319)</td>\n",
              "    </tr>\n",
              "    <tr>\n",
              "      <th>33182</th>\n",
              "      <td>907601</td>\n",
              "      <td>6029761</td>\n",
              "      <td>HP132576</td>\n",
              "      <td>01/19/2008 09:00:00 AM</td>\n",
              "      <td>034XX S INDIANA AVE</td>\n",
              "      <td>0460</td>\n",
              "      <td>BATTERY</td>\n",
              "      <td>SIMPLE</td>\n",
              "      <td>STREET</td>\n",
              "      <td>False</td>\n",
              "      <td>False</td>\n",
              "      <td>2112.0</td>\n",
              "      <td>2.0</td>\n",
              "      <td>3.0</td>\n",
              "      <td>35.0</td>\n",
              "      <td>08B</td>\n",
              "      <td>1178168.0</td>\n",
              "      <td>1882113.0</td>\n",
              "      <td>2008.0</td>\n",
              "      <td>02/04/2016 06:33:39 AM</td>\n",
              "      <td>41.831832</td>\n",
              "      <td>-87.621781</td>\n",
              "      <td>(41.831832202, -87.621780828)</td>\n",
              "    </tr>\n",
              "    <tr>\n",
              "      <th>33183</th>\n",
              "      <td>907602</td>\n",
              "      <td>6029763</td>\n",
              "      <td>HP132011</td>\n",
              "      <td>01/19/2008 02:33:16 AM</td>\n",
              "      <td>017XX W OGDEN AVE</td>\n",
              "      <td>3800</td>\n",
              "      <td>INTERFERENCE WITH PUBLIC OFFICER</td>\n",
              "      <td>INTERFERENCE JUDICIAL PROCESS</td>\n",
              "      <td>STREET</td>\n",
              "      <td>True</td>\n",
              "      <td>False</td>\n",
              "      <td>1211.0</td>\n",
              "      <td>12.0</td>\n",
              "      <td>2.0</td>\n",
              "      <td>28.0</td>\n",
              "      <td>26</td>\n",
              "      <td>1165056.0</td>\n",
              "      <td>1899086.0</td>\n",
              "      <td>2008.0</td>\n",
              "      <td>02/04/2016 06:33:39 AM</td>\n",
              "      <td>41.878696</td>\n",
              "      <td>-87.669409</td>\n",
              "      <td>(41.878695654, -87.669408552)</td>\n",
              "    </tr>\n",
              "    <tr>\n",
              "      <th>33184</th>\n",
              "      <td>907603</td>\n",
              "      <td>6029764</td>\n",
              "      <td>HP132754</td>\n",
              "      <td>01/19/2008 03:00:00 PM</td>\n",
              "      <td>081XX S CRANDON AVE</td>\n",
              "      <td>0486</td>\n",
              "      <td>BATTERY</td>\n",
              "      <td>DOMESTIC BATTERY SIMPLE</td>\n",
              "      <td>STREET</td>\n",
              "      <td>False</td>\n",
              "      <td>False</td>\n",
              "      <td>414.0</td>\n",
              "      <td>4.0</td>\n",
              "      <td>8.0</td>\n",
              "      <td>46.0</td>\n",
              "      <td>08B</td>\n",
              "      <td>1192935.0</td>\n",
              "      <td>1851459.0</td>\n",
              "      <td>2008.0</td>\n",
              "      <td>02/04/2016 06:33:39 AM</td>\n",
              "      <td>41.747367</td>\n",
              "      <td>-87.568600</td>\n",
              "      <td>(41.747367236, -87.568600494)</td>\n",
              "    </tr>\n",
              "    <tr>\n",
              "      <th>33185</th>\n",
              "      <td>907604</td>\n",
              "      <td>6029769</td>\n",
              "      <td>HP132872</td>\n",
              "      <td>01/16/2008 11:20:00 AM</td>\n",
              "      <td>099XX S AVENUE H</td>\n",
              "      <td>0460</td>\n",
              "      <td>BATTERY</td>\n",
              "      <td>SIMPLE</td>\n",
              "      <td>SCHOOL, PUBLIC, BUILDING</td>\n",
              "      <td>False</td>\n",
              "      <td>False</td>\n",
              "      <td>432.0</td>\n",
              "      <td>4.0</td>\n",
              "      <td>10.0</td>\n",
              "      <td>52.0</td>\n",
              "      <td>08B</td>\n",
              "      <td>1202797.0</td>\n",
              "      <td>1839847.0</td>\n",
              "      <td>2008.0</td>\n",
              "      <td>02/04/2016 06:33:39 AM</td>\n",
              "      <td>41.715257</td>\n",
              "      <td>-87.532860</td>\n",
              "      <td>(41.715256909, -87.532859912)</td>\n",
              "    </tr>\n",
              "    <tr>\n",
              "      <th>33186</th>\n",
              "      <td>907605</td>\n",
              "      <td>6029770</td>\n",
              "      <td>HP133473</td>\n",
              "      <td>01/20/2008 02:30:00 AM</td>\n",
              "      <td>008XX W 33RD ST</td>\n",
              "      <td>1310</td>\n",
              "      <td>CRIMINAL DAMAGE</td>\n",
              "      <td>TO PROPERTY</td>\n",
              "      <td>RESIDENCE</td>\n",
              "      <td>False</td>\n",
              "      <td>False</td>\n",
              "      <td>924.0</td>\n",
              "      <td>9.0</td>\n",
              "      <td>11.0</td>\n",
              "      <td>60.0</td>\n",
              "      <td>14</td>\n",
              "      <td>1171118.0</td>\n",
              "      <td>1883141.0</td>\n",
              "      <td>2008.0</td>\n",
              "      <td>02/04/2016 06:33:39 AM</td>\n",
              "      <td>41.834810</td>\n",
              "      <td>-87.647618</td>\n",
              "      <td>(41.83481046, -87.647617797)</td>\n",
              "    </tr>\n",
              "    <tr>\n",
              "      <th>33187</th>\n",
              "      <td>907606</td>\n",
              "      <td>6029772</td>\n",
              "      <td>HP123572</td>\n",
              "      <td>01/14/2008 02:00:00 PM</td>\n",
              "      <td>095XX S WENTWORTH AVE</td>\n",
              "      <td>2027</td>\n",
              "      <td>NARCOTICS</td>\n",
              "      <td>POSS: CRACK</td>\n",
              "      <td>SIDEWALK</td>\n",
              "      <td>True</td>\n",
              "      <td>False</td>\n",
              "      <td>511.0</td>\n",
              "      <td>5.0</td>\n",
              "      <td>21.0</td>\n",
              "      <td>49.0</td>\n",
              "      <td>18</td>\n",
              "      <td>1176625.0</td>\n",
              "      <td>1841786.0</td>\n",
              "      <td>2008.0</td>\n",
              "      <td>02/04/2016 06:33:39 AM</td>\n",
              "      <td>41.721206</td>\n",
              "      <td>-87.628655</td>\n",
              "      <td>(41.721205526, -87.628654671)</td>\n",
              "    </tr>\n",
              "    <tr>\n",
              "      <th>33188</th>\n",
              "      <td>907607</td>\n",
              "      <td>6029773</td>\n",
              "      <td>HP133563</td>\n",
              "      <td>01/20/2008 04:30:00 AM</td>\n",
              "      <td>010XX W 47TH PL</td>\n",
              "      <td>0486</td>\n",
              "      <td>BATTERY</td>\n",
              "      <td>DOMESTIC BATTERY SIMPLE</td>\n",
              "      <td>RESIDENCE</td>\n",
              "      <td>False</td>\n",
              "      <td>True</td>\n",
              "      <td>921.0</td>\n",
              "      <td>9.0</td>\n",
              "      <td>3.0</td>\n",
              "      <td>61.0</td>\n",
              "      <td>08B</td>\n",
              "      <td>1170106.0</td>\n",
              "      <td>1873313.0</td>\n",
              "      <td>2008.0</td>\n",
              "      <td>02/04/2016 06:33:39</td>\n",
              "      <td>NaN</td>\n",
              "      <td>NaN</td>\n",
              "      <td>NaN</td>\n",
              "    </tr>\n",
              "  </tbody>\n",
              "</table>\n",
              "</div>"
            ],
            "text/plain": [
              "       Unnamed: 0       ID  ...  Longitude                       Location\n",
              "33179      907598  6029757  ... -87.551998  (41.742450258, -87.551997603)\n",
              "33180      907599  6029758  ... -87.644402  (41.764748911, -87.644401916)\n",
              "33181      907600  6029760  ... -87.626662  (41.697098131, -87.626662319)\n",
              "33182      907601  6029761  ... -87.621781  (41.831832202, -87.621780828)\n",
              "33183      907602  6029763  ... -87.669409  (41.878695654, -87.669408552)\n",
              "33184      907603  6029764  ... -87.568600  (41.747367236, -87.568600494)\n",
              "33185      907604  6029769  ... -87.532860  (41.715256909, -87.532859912)\n",
              "33186      907605  6029770  ... -87.647618   (41.83481046, -87.647617797)\n",
              "33187      907606  6029772  ... -87.628655  (41.721205526, -87.628654671)\n",
              "33188      907607  6029773  ...        NaN                            NaN\n",
              "\n",
              "[10 rows x 23 columns]"
            ]
          },
          "metadata": {
            "tags": []
          },
          "execution_count": 12
        }
      ]
    },
    {
      "cell_type": "code",
      "metadata": {
        "colab": {
          "base_uri": "https://localhost:8080/"
        },
        "id": "U5uv9Oiouxf3",
        "outputId": "6c3a2294-5329-4435-b52e-b75eb54cf2d1"
      },
      "source": [
        "print(chicago_df_1.shape)\n",
        "print(chicago_df_2.shape)\n",
        "print(chicago_df_3.shape)\n",
        "print(chicago_df_4.shape)"
      ],
      "execution_count": null,
      "outputs": [
        {
          "output_type": "stream",
          "text": [
            "(32173, 23)\n",
            "(29351, 23)\n",
            "(33189, 23)\n",
            "(30654, 23)\n"
          ],
          "name": "stdout"
        }
      ]
    },
    {
      "cell_type": "code",
      "metadata": {
        "colab": {
          "base_uri": "https://localhost:8080/",
          "height": 705
        },
        "id": "zdwkWO-svIW8",
        "outputId": "ea29588f-e14c-4d2d-cad3-36bfcafb91c1"
      },
      "source": [
        "# Let's see how many null elements are contained in the data\n",
        "plt.figure(figsize=(10,10))\n",
        "sns.heatmap(chicago_df.isnull(), cbar = False, cmap = 'YlGnBu')"
      ],
      "execution_count": null,
      "outputs": [
        {
          "output_type": "execute_result",
          "data": {
            "text/plain": [
              "<matplotlib.axes._subplots.AxesSubplot at 0x7fa46d9925c0>"
            ]
          },
          "metadata": {
            "tags": []
          },
          "execution_count": 16
        },
        {
          "output_type": "display_data",
          "data": {
            "image/png": "[encoded data removed]",
            "text/plain": [
              "<Figure size 720x720 with 1 Axes>"
            ]
          },
          "metadata": {
            "tags": [],
            "needs_background": "light"
          }
        }
      ]
    },
    {
      "cell_type": "code",
      "metadata": {
        "id": "V2TJjprLwS18"
      },
      "source": [
        "# ID Case Number Date Block IUCR Primary Type Description Location Description Arrest Domestic Beat District Ward Community Area FBI Code X Coordinate Y Coordinate Year Updated On Latitude Longitude Location\n",
        "chicago_df.drop(['Unnamed: 0', 'Case Number', 'Case Number', 'IUCR', 'X Coordinate', 'Y Coordinate','Updated On','Year', 'FBI Code', 'Beat','Ward','Community Area', 'Location', 'District', 'Latitude' , 'Longitude'], inplace=True, axis=1)"
      ],
      "execution_count": null,
      "outputs": []
    },
    {
      "cell_type": "code",
      "metadata": {
        "id": "DMVpHqA5w-5A"
      },
      "source": [
        "#Assembling a datetime by rearranging the dataframe column \"Date\". \n",
        "\n",
        "chicago_df.Date = pd.to_datetime(chicago_df.Date, format='%m/%d/%Y %I:%M:%S %p')"
      ],
      "execution_count": null,
      "outputs": []
    },
    {
      "cell_type": "code",
      "metadata": {
        "colab": {
          "base_uri": "https://localhost:8080/",
          "height": 774
        },
        "id": "SqzVi0qGxVGx",
        "outputId": "ca65f203-c630-4f97-8888-cd2ad0019a06"
      },
      "source": [
        "chicago_df"
      ],
      "execution_count": null,
      "outputs": [
        {
          "output_type": "execute_result",
          "data": {
            "text/html": [
              "<div>\n",
              "<style scoped>\n",
              "    .dataframe tbody tr th:only-of-type {\n",
              "        vertical-align: middle;\n",
              "    }\n",
              "\n",
              "    .dataframe tbody tr th {\n",
              "        vertical-align: top;\n",
              "    }\n",
              "\n",
              "    .dataframe thead th {\n",
              "        text-align: right;\n",
              "    }\n",
              "</style>\n",
              "<table border=\"1\" class=\"dataframe\">\n",
              "  <thead>\n",
              "    <tr style=\"text-align: right;\">\n",
              "      <th></th>\n",
              "      <th>ID</th>\n",
              "      <th>Date</th>\n",
              "      <th>Block</th>\n",
              "      <th>Primary Type</th>\n",
              "      <th>Description</th>\n",
              "      <th>Location Description</th>\n",
              "      <th>Arrest</th>\n",
              "      <th>Domestic</th>\n",
              "    </tr>\n",
              "  </thead>\n",
              "  <tbody>\n",
              "    <tr>\n",
              "      <th>0</th>\n",
              "      <td>4786321</td>\n",
              "      <td>2004-01-01 00:01:00</td>\n",
              "      <td>082XX S COLES AVE</td>\n",
              "      <td>THEFT</td>\n",
              "      <td>FINANCIAL ID THEFT: OVER $300</td>\n",
              "      <td>RESIDENCE</td>\n",
              "      <td>False</td>\n",
              "      <td>False</td>\n",
              "    </tr>\n",
              "    <tr>\n",
              "      <th>1</th>\n",
              "      <td>4676906</td>\n",
              "      <td>2003-03-01 00:00:00</td>\n",
              "      <td>004XX W 42ND PL</td>\n",
              "      <td>OTHER OFFENSE</td>\n",
              "      <td>HARASSMENT BY TELEPHONE</td>\n",
              "      <td>RESIDENCE</td>\n",
              "      <td>False</td>\n",
              "      <td>True</td>\n",
              "    </tr>\n",
              "    <tr>\n",
              "      <th>2</th>\n",
              "      <td>4789749</td>\n",
              "      <td>2004-06-20 11:00:00</td>\n",
              "      <td>025XX N KIMBALL AVE</td>\n",
              "      <td>OFFENSE INVOLVING CHILDREN</td>\n",
              "      <td>AGG CRIM SEX ABUSE FAM MEMBER</td>\n",
              "      <td>RESIDENCE</td>\n",
              "      <td>False</td>\n",
              "      <td>False</td>\n",
              "    </tr>\n",
              "    <tr>\n",
              "      <th>3</th>\n",
              "      <td>4789765</td>\n",
              "      <td>2004-12-30 20:00:00</td>\n",
              "      <td>045XX W MONTANA ST</td>\n",
              "      <td>THEFT</td>\n",
              "      <td>FINANCIAL ID THEFT: OVER $300</td>\n",
              "      <td>OTHER</td>\n",
              "      <td>False</td>\n",
              "      <td>False</td>\n",
              "    </tr>\n",
              "    <tr>\n",
              "      <th>4</th>\n",
              "      <td>4677901</td>\n",
              "      <td>2003-05-01 01:00:00</td>\n",
              "      <td>111XX S NORMAL AVE</td>\n",
              "      <td>THEFT</td>\n",
              "      <td>FINANCIAL ID THEFT:$300 &amp;UNDER</td>\n",
              "      <td>RESIDENCE</td>\n",
              "      <td>False</td>\n",
              "      <td>False</td>\n",
              "    </tr>\n",
              "    <tr>\n",
              "      <th>...</th>\n",
              "      <td>...</td>\n",
              "      <td>...</td>\n",
              "      <td>...</td>\n",
              "      <td>...</td>\n",
              "      <td>...</td>\n",
              "      <td>...</td>\n",
              "      <td>...</td>\n",
              "      <td>...</td>\n",
              "    </tr>\n",
              "    <tr>\n",
              "      <th>33184</th>\n",
              "      <td>6029764</td>\n",
              "      <td>2008-01-19 15:00:00</td>\n",
              "      <td>081XX S CRANDON AVE</td>\n",
              "      <td>BATTERY</td>\n",
              "      <td>DOMESTIC BATTERY SIMPLE</td>\n",
              "      <td>STREET</td>\n",
              "      <td>False</td>\n",
              "      <td>False</td>\n",
              "    </tr>\n",
              "    <tr>\n",
              "      <th>33185</th>\n",
              "      <td>6029769</td>\n",
              "      <td>2008-01-16 11:20:00</td>\n",
              "      <td>099XX S AVENUE H</td>\n",
              "      <td>BATTERY</td>\n",
              "      <td>SIMPLE</td>\n",
              "      <td>SCHOOL, PUBLIC, BUILDING</td>\n",
              "      <td>False</td>\n",
              "      <td>False</td>\n",
              "    </tr>\n",
              "    <tr>\n",
              "      <th>33186</th>\n",
              "      <td>6029770</td>\n",
              "      <td>2008-01-20 02:30:00</td>\n",
              "      <td>008XX W 33RD ST</td>\n",
              "      <td>CRIMINAL DAMAGE</td>\n",
              "      <td>TO PROPERTY</td>\n",
              "      <td>RESIDENCE</td>\n",
              "      <td>False</td>\n",
              "      <td>False</td>\n",
              "    </tr>\n",
              "    <tr>\n",
              "      <th>33187</th>\n",
              "      <td>6029772</td>\n",
              "      <td>2008-01-14 14:00:00</td>\n",
              "      <td>095XX S WENTWORTH AVE</td>\n",
              "      <td>NARCOTICS</td>\n",
              "      <td>POSS: CRACK</td>\n",
              "      <td>SIDEWALK</td>\n",
              "      <td>True</td>\n",
              "      <td>False</td>\n",
              "    </tr>\n",
              "    <tr>\n",
              "      <th>33188</th>\n",
              "      <td>6029773</td>\n",
              "      <td>2008-01-20 04:30:00</td>\n",
              "      <td>010XX W 47TH PL</td>\n",
              "      <td>BATTERY</td>\n",
              "      <td>DOMESTIC BATTERY SIMPLE</td>\n",
              "      <td>RESIDENCE</td>\n",
              "      <td>False</td>\n",
              "      <td>True</td>\n",
              "    </tr>\n",
              "  </tbody>\n",
              "</table>\n",
              "<p>94713 rows × 8 columns</p>\n",
              "</div>"
            ],
            "text/plain": [
              "            ID                Date  ... Arrest Domestic\n",
              "0      4786321 2004-01-01 00:01:00  ...  False    False\n",
              "1      4676906 2003-03-01 00:00:00  ...  False     True\n",
              "2      4789749 2004-06-20 11:00:00  ...  False    False\n",
              "3      4789765 2004-12-30 20:00:00  ...  False    False\n",
              "4      4677901 2003-05-01 01:00:00  ...  False    False\n",
              "...        ...                 ...  ...    ...      ...\n",
              "33184  6029764 2008-01-19 15:00:00  ...  False    False\n",
              "33185  6029769 2008-01-16 11:20:00  ...  False    False\n",
              "33186  6029770 2008-01-20 02:30:00  ...  False    False\n",
              "33187  6029772 2008-01-14 14:00:00  ...   True    False\n",
              "33188  6029773 2008-01-20 04:30:00  ...  False     True\n",
              "\n",
              "[94713 rows x 8 columns]"
            ]
          },
          "metadata": {
            "tags": []
          },
          "execution_count": 19
        }
      ]
    },
    {
      "cell_type": "code",
      "metadata": {
        "id": "UGldzMcWxYHb"
      },
      "source": [
        "# setting the index to be the date \n",
        "chicago_df.index = pd.DatetimeIndex(chicago_df.Date)\n"
      ],
      "execution_count": null,
      "outputs": []
    },
    {
      "cell_type": "code",
      "metadata": {
        "colab": {
          "base_uri": "https://localhost:8080/",
          "height": 804
        },
        "id": "Oy_LLZ14xrLh",
        "outputId": "10015409-11c7-4975-a245-5c900ef23fc1"
      },
      "source": [
        "chicago_df"
      ],
      "execution_count": null,
      "outputs": [
        {
          "output_type": "execute_result",
          "data": {
            "text/html": [
              "<div>\n",
              "<style scoped>\n",
              "    .dataframe tbody tr th:only-of-type {\n",
              "        vertical-align: middle;\n",
              "    }\n",
              "\n",
              "    .dataframe tbody tr th {\n",
              "        vertical-align: top;\n",
              "    }\n",
              "\n",
              "    .dataframe thead th {\n",
              "        text-align: right;\n",
              "    }\n",
              "</style>\n",
              "<table border=\"1\" class=\"dataframe\">\n",
              "  <thead>\n",
              "    <tr style=\"text-align: right;\">\n",
              "      <th></th>\n",
              "      <th>ID</th>\n",
              "      <th>Date</th>\n",
              "      <th>Block</th>\n",
              "      <th>Primary Type</th>\n",
              "      <th>Description</th>\n",
              "      <th>Location Description</th>\n",
              "      <th>Arrest</th>\n",
              "      <th>Domestic</th>\n",
              "    </tr>\n",
              "    <tr>\n",
              "      <th>Date</th>\n",
              "      <th></th>\n",
              "      <th></th>\n",
              "      <th></th>\n",
              "      <th></th>\n",
              "      <th></th>\n",
              "      <th></th>\n",
              "      <th></th>\n",
              "      <th></th>\n",
              "    </tr>\n",
              "  </thead>\n",
              "  <tbody>\n",
              "    <tr>\n",
              "      <th>2004-01-01 00:01:00</th>\n",
              "      <td>4786321</td>\n",
              "      <td>2004-01-01 00:01:00</td>\n",
              "      <td>082XX S COLES AVE</td>\n",
              "      <td>THEFT</td>\n",
              "      <td>FINANCIAL ID THEFT: OVER $300</td>\n",
              "      <td>RESIDENCE</td>\n",
              "      <td>False</td>\n",
              "      <td>False</td>\n",
              "    </tr>\n",
              "    <tr>\n",
              "      <th>2003-03-01 00:00:00</th>\n",
              "      <td>4676906</td>\n",
              "      <td>2003-03-01 00:00:00</td>\n",
              "      <td>004XX W 42ND PL</td>\n",
              "      <td>OTHER OFFENSE</td>\n",
              "      <td>HARASSMENT BY TELEPHONE</td>\n",
              "      <td>RESIDENCE</td>\n",
              "      <td>False</td>\n",
              "      <td>True</td>\n",
              "    </tr>\n",
              "    <tr>\n",
              "      <th>2004-06-20 11:00:00</th>\n",
              "      <td>4789749</td>\n",
              "      <td>2004-06-20 11:00:00</td>\n",
              "      <td>025XX N KIMBALL AVE</td>\n",
              "      <td>OFFENSE INVOLVING CHILDREN</td>\n",
              "      <td>AGG CRIM SEX ABUSE FAM MEMBER</td>\n",
              "      <td>RESIDENCE</td>\n",
              "      <td>False</td>\n",
              "      <td>False</td>\n",
              "    </tr>\n",
              "    <tr>\n",
              "      <th>2004-12-30 20:00:00</th>\n",
              "      <td>4789765</td>\n",
              "      <td>2004-12-30 20:00:00</td>\n",
              "      <td>045XX W MONTANA ST</td>\n",
              "      <td>THEFT</td>\n",
              "      <td>FINANCIAL ID THEFT: OVER $300</td>\n",
              "      <td>OTHER</td>\n",
              "      <td>False</td>\n",
              "      <td>False</td>\n",
              "    </tr>\n",
              "    <tr>\n",
              "      <th>2003-05-01 01:00:00</th>\n",
              "      <td>4677901</td>\n",
              "      <td>2003-05-01 01:00:00</td>\n",
              "      <td>111XX S NORMAL AVE</td>\n",
              "      <td>THEFT</td>\n",
              "      <td>FINANCIAL ID THEFT:$300 &amp;UNDER</td>\n",
              "      <td>RESIDENCE</td>\n",
              "      <td>False</td>\n",
              "      <td>False</td>\n",
              "    </tr>\n",
              "    <tr>\n",
              "      <th>...</th>\n",
              "      <td>...</td>\n",
              "      <td>...</td>\n",
              "      <td>...</td>\n",
              "      <td>...</td>\n",
              "      <td>...</td>\n",
              "      <td>...</td>\n",
              "      <td>...</td>\n",
              "      <td>...</td>\n",
              "    </tr>\n",
              "    <tr>\n",
              "      <th>2008-01-19 15:00:00</th>\n",
              "      <td>6029764</td>\n",
              "      <td>2008-01-19 15:00:00</td>\n",
              "      <td>081XX S CRANDON AVE</td>\n",
              "      <td>BATTERY</td>\n",
              "      <td>DOMESTIC BATTERY SIMPLE</td>\n",
              "      <td>STREET</td>\n",
              "      <td>False</td>\n",
              "      <td>False</td>\n",
              "    </tr>\n",
              "    <tr>\n",
              "      <th>2008-01-16 11:20:00</th>\n",
              "      <td>6029769</td>\n",
              "      <td>2008-01-16 11:20:00</td>\n",
              "      <td>099XX S AVENUE H</td>\n",
              "      <td>BATTERY</td>\n",
              "      <td>SIMPLE</td>\n",
              "      <td>SCHOOL, PUBLIC, BUILDING</td>\n",
              "      <td>False</td>\n",
              "      <td>False</td>\n",
              "    </tr>\n",
              "    <tr>\n",
              "      <th>2008-01-20 02:30:00</th>\n",
              "      <td>6029770</td>\n",
              "      <td>2008-01-20 02:30:00</td>\n",
              "      <td>008XX W 33RD ST</td>\n",
              "      <td>CRIMINAL DAMAGE</td>\n",
              "      <td>TO PROPERTY</td>\n",
              "      <td>RESIDENCE</td>\n",
              "      <td>False</td>\n",
              "      <td>False</td>\n",
              "    </tr>\n",
              "    <tr>\n",
              "      <th>2008-01-14 14:00:00</th>\n",
              "      <td>6029772</td>\n",
              "      <td>2008-01-14 14:00:00</td>\n",
              "      <td>095XX S WENTWORTH AVE</td>\n",
              "      <td>NARCOTICS</td>\n",
              "      <td>POSS: CRACK</td>\n",
              "      <td>SIDEWALK</td>\n",
              "      <td>True</td>\n",
              "      <td>False</td>\n",
              "    </tr>\n",
              "    <tr>\n",
              "      <th>2008-01-20 04:30:00</th>\n",
              "      <td>6029773</td>\n",
              "      <td>2008-01-20 04:30:00</td>\n",
              "      <td>010XX W 47TH PL</td>\n",
              "      <td>BATTERY</td>\n",
              "      <td>DOMESTIC BATTERY SIMPLE</td>\n",
              "      <td>RESIDENCE</td>\n",
              "      <td>False</td>\n",
              "      <td>True</td>\n",
              "    </tr>\n",
              "  </tbody>\n",
              "</table>\n",
              "<p>94713 rows × 8 columns</p>\n",
              "</div>"
            ],
            "text/plain": [
              "                          ID                Date  ... Arrest Domestic\n",
              "Date                                              ...                \n",
              "2004-01-01 00:01:00  4786321 2004-01-01 00:01:00  ...  False    False\n",
              "2003-03-01 00:00:00  4676906 2003-03-01 00:00:00  ...  False     True\n",
              "2004-06-20 11:00:00  4789749 2004-06-20 11:00:00  ...  False    False\n",
              "2004-12-30 20:00:00  4789765 2004-12-30 20:00:00  ...  False    False\n",
              "2003-05-01 01:00:00  4677901 2003-05-01 01:00:00  ...  False    False\n",
              "...                      ...                 ...  ...    ...      ...\n",
              "2008-01-19 15:00:00  6029764 2008-01-19 15:00:00  ...  False    False\n",
              "2008-01-16 11:20:00  6029769 2008-01-16 11:20:00  ...  False    False\n",
              "2008-01-20 02:30:00  6029770 2008-01-20 02:30:00  ...  False    False\n",
              "2008-01-14 14:00:00  6029772 2008-01-14 14:00:00  ...   True    False\n",
              "2008-01-20 04:30:00  6029773 2008-01-20 04:30:00  ...  False     True\n",
              "\n",
              "[94713 rows x 8 columns]"
            ]
          },
          "metadata": {
            "tags": []
          },
          "execution_count": 21
        }
      ]
    },
    {
      "cell_type": "code",
      "metadata": {
        "colab": {
          "base_uri": "https://localhost:8080/"
        },
        "id": "I0zLq6d4xum3",
        "outputId": "1bf7e8b0-da97-4056-bb01-6cfb55f199b7"
      },
      "source": [
        "#how many crimes are done of each type\n",
        "chicago_df['Primary Type'].value_counts()"
      ],
      "execution_count": null,
      "outputs": [
        {
          "output_type": "execute_result",
          "data": {
            "text/plain": [
              "THEFT                               20725\n",
              "BATTERY                             16248\n",
              "CRIMINAL DAMAGE                     10822\n",
              "NARCOTICS                           10478\n",
              "OTHER OFFENSE                        6113\n",
              "ASSAULT                              5263\n",
              "BURGLARY                             4601\n",
              "MOTOR VEHICLE THEFT                  4327\n",
              "DECEPTIVE PRACTICE                   3483\n",
              "ROBBERY                              3202\n",
              "CRIMINAL TRESPASS                    2695\n",
              "OFFENSE INVOLVING CHILDREN           1158\n",
              "HOMICIDE                             1052\n",
              "PROSTITUTION                         1004\n",
              "WEAPONS VIOLATION                     873\n",
              "CRIM SEXUAL ASSAULT                   692\n",
              "SEX OFFENSE                           690\n",
              "PUBLIC PEACE VIOLATION                485\n",
              "LIQUOR LAW VIOLATION                  174\n",
              "ARSON                                 153\n",
              "INTERFERENCE WITH PUBLIC OFFICER      123\n",
              "KIDNAPPING                            115\n",
              "GAMBLING                              106\n",
              "STALKING                               59\n",
              "INTIMIDATION                           57\n",
              "OBSCENITY                               8\n",
              "RITUALISM                               2\n",
              "OTHER NARCOTIC VIOLATION                2\n",
              "DOMESTIC VIOLENCE                       1\n",
              "PUBLIC INDECENCY                        1\n",
              "NON-CRIMINAL                            1\n",
              "Name: Primary Type, dtype: int64"
            ]
          },
          "metadata": {
            "tags": []
          },
          "execution_count": 22
        }
      ]
    },
    {
      "cell_type": "code",
      "metadata": {
        "colab": {
          "base_uri": "https://localhost:8080/"
        },
        "id": "bdILT2KLx378",
        "outputId": "4fa6ba8d-7484-4af7-ea46-0c7b7f64ba42"
      },
      "source": [
        "chicago_df['Primary Type'].value_counts().iloc[:15]"
      ],
      "execution_count": null,
      "outputs": [
        {
          "output_type": "execute_result",
          "data": {
            "text/plain": [
              "THEFT                         20725\n",
              "BATTERY                       16248\n",
              "CRIMINAL DAMAGE               10822\n",
              "NARCOTICS                     10478\n",
              "OTHER OFFENSE                  6113\n",
              "ASSAULT                        5263\n",
              "BURGLARY                       4601\n",
              "MOTOR VEHICLE THEFT            4327\n",
              "DECEPTIVE PRACTICE             3483\n",
              "ROBBERY                        3202\n",
              "CRIMINAL TRESPASS              2695\n",
              "OFFENSE INVOLVING CHILDREN     1158\n",
              "HOMICIDE                       1052\n",
              "PROSTITUTION                   1004\n",
              "WEAPONS VIOLATION               873\n",
              "Name: Primary Type, dtype: int64"
            ]
          },
          "metadata": {
            "tags": []
          },
          "execution_count": 23
        }
      ]
    },
    {
      "cell_type": "code",
      "metadata": {
        "colab": {
          "base_uri": "https://localhost:8080/"
        },
        "id": "laVExNAkyAoA",
        "outputId": "688147c0-c6b3-4bc6-ad3f-8ce823cb6f00"
      },
      "source": [
        "chicago_df['Primary Type'].value_counts().iloc[:15].index"
      ],
      "execution_count": null,
      "outputs": [
        {
          "output_type": "execute_result",
          "data": {
            "text/plain": [
              "Index(['THEFT', 'BATTERY', 'CRIMINAL DAMAGE', 'NARCOTICS', 'OTHER OFFENSE',\n",
              "       'ASSAULT', 'BURGLARY', 'MOTOR VEHICLE THEFT', 'DECEPTIVE PRACTICE',\n",
              "       'ROBBERY', 'CRIMINAL TRESPASS', 'OFFENSE INVOLVING CHILDREN',\n",
              "       'HOMICIDE', 'PROSTITUTION', 'WEAPONS VIOLATION'],\n",
              "      dtype='object')"
            ]
          },
          "metadata": {
            "tags": []
          },
          "execution_count": 24
        }
      ]
    },
    {
      "cell_type": "code",
      "metadata": {
        "colab": {
          "base_uri": "https://localhost:8080/",
          "height": 394
        },
        "id": "K80FiqdPyPCn",
        "outputId": "76646c12-ca50-420e-ba7a-a493c766f22b"
      },
      "source": [
        "plt.figure(figsize = (15, 10))\n",
        "sns.countplot(y= 'Primary Type', data = chicago_df, order = chicago_df['Primary Type'].value_counts().iloc[:15].index)"
      ],
      "execution_count": null,
      "outputs": [
        {
          "output_type": "execute_result",
          "data": {
            "text/plain": [
              "<matplotlib.axes._subplots.AxesSubplot at 0x7fa46d901128>"
            ]
          },
          "metadata": {
            "tags": []
          },
          "execution_count": 25
        },
        {
          "output_type": "display_data",
          "data": {
            "image/png": "[encoded data removed]",
            "text/plain": [
              "<Figure size 1080x720 with 1 Axes>"
            ]
          },
          "metadata": {
            "tags": [],
            "needs_background": "light"
          }
        }
      ]
    },
    {
      "cell_type": "code",
      "metadata": {
        "colab": {
          "base_uri": "https://localhost:8080/",
          "height": 386
        },
        "id": "2XFVQi2nyeTU",
        "outputId": "10e51d27-c4db-4f97-d00a-b05e56b13e57"
      },
      "source": [
        "#based on location description\n",
        "plt.figure(figsize = (15, 10))\n",
        "sns.countplot(y= 'Location Description', data = chicago_df, order = chicago_df['Location Description'].value_counts().iloc[:15].index)"
      ],
      "execution_count": null,
      "outputs": [
        {
          "output_type": "execute_result",
          "data": {
            "text/plain": [
              "<matplotlib.axes._subplots.AxesSubplot at 0x7fa4708f0cc0>"
            ]
          },
          "metadata": {
            "tags": []
          },
          "execution_count": 26
        },
        {
          "output_type": "display_data",
          "data": {
            "image/png": "[encoded data removed]",
            "text/plain": [
              "<Figure size 1080x720 with 1 Axes>"
            ]
          },
          "metadata": {
            "tags": [],
            "needs_background": "light"
          }
        }
      ]
    },
    {
      "cell_type": "code",
      "metadata": {
        "colab": {
          "base_uri": "https://localhost:8080/"
        },
        "id": "CdzwCGnuywus",
        "outputId": "d680fd14-18a1-4539-bcdf-0ba7ddf56c32"
      },
      "source": [
        "#how many crime occous in aspecific year\n",
        "chicago_df.resample('Y').size()"
      ],
      "execution_count": null,
      "outputs": [
        {
          "output_type": "execute_result",
          "data": {
            "text/plain": [
              "Date\n",
              "2001-12-31    25813\n",
              "2002-12-31     4174\n",
              "2003-12-31      979\n",
              "2004-12-31     1207\n",
              "2005-12-31      544\n",
              "2006-12-31    28807\n",
              "2007-12-31        0\n",
              "2008-12-31    24939\n",
              "2009-12-31     6222\n",
              "2010-12-31     1493\n",
              "2011-12-31      535\n",
              "Freq: A-DEC, dtype: int64"
            ]
          },
          "metadata": {
            "tags": []
          },
          "execution_count": 27
        }
      ]
    },
    {
      "cell_type": "code",
      "metadata": {
        "colab": {
          "base_uri": "https://localhost:8080/",
          "height": 312
        },
        "id": "Z6PO7hehzTE3",
        "outputId": "2a0f41be-0bc6-400d-f497-9e73fb27e2b4"
      },
      "source": [
        "# Resample is a Convenience method for frequency conversion and resampling of time series.\n",
        "\n",
        "plt.plot(chicago_df.resample('Y').size())\n",
        "plt.title('Crimes Count Per Year')\n",
        "plt.xlabel('Years')\n",
        "plt.ylabel('Number of Crimes')"
      ],
      "execution_count": null,
      "outputs": [
        {
          "output_type": "execute_result",
          "data": {
            "text/plain": [
              "Text(0, 0.5, 'Number of Crimes')"
            ]
          },
          "metadata": {
            "tags": []
          },
          "execution_count": 28
        },
        {
          "output_type": "display_data",
          "data": {
            "image/png": "[encoded data removed]",
            "text/plain": [
              "<Figure size 432x288 with 1 Axes>"
            ]
          },
          "metadata": {
            "tags": [],
            "needs_background": "light"
          }
        }
      ]
    },
    {
      "cell_type": "code",
      "metadata": {
        "colab": {
          "base_uri": "https://localhost:8080/"
        },
        "id": "SVdhjXihzpIf",
        "outputId": "076fdda3-912f-4dc6-9938-8085eb6223bf"
      },
      "source": [
        "#based on month\n",
        "chicago_df.resample('M').size()\n"
      ],
      "execution_count": null,
      "outputs": [
        {
          "output_type": "execute_result",
          "data": {
            "text/plain": [
              "Date\n",
              "2001-01-31    24872\n",
              "2001-02-28       51\n",
              "2001-03-31       59\n",
              "2001-04-30       89\n",
              "2001-05-31       62\n",
              "              ...  \n",
              "2011-08-31       47\n",
              "2011-09-30       38\n",
              "2011-10-31       51\n",
              "2011-11-30       42\n",
              "2011-12-31       43\n",
              "Freq: M, Length: 132, dtype: int64"
            ]
          },
          "metadata": {
            "tags": []
          },
          "execution_count": 29
        }
      ]
    },
    {
      "cell_type": "code",
      "metadata": {
        "colab": {
          "base_uri": "https://localhost:8080/",
          "height": 312
        },
        "id": "BCAAN9E2zzNv",
        "outputId": "85990493-a30c-4d62-f0b9-bfb80d39daf6"
      },
      "source": [
        "# Resample is a Convenience method for frequency conversion and resampling of time series.\n",
        "\n",
        "plt.plot(chicago_df.resample('M').size())\n",
        "plt.title('Crimes Count Per Month')\n",
        "plt.xlabel('Months')\n",
        "plt.ylabel('Number of Crimes')"
      ],
      "execution_count": null,
      "outputs": [
        {
          "output_type": "execute_result",
          "data": {
            "text/plain": [
              "Text(0, 0.5, 'Number of Crimes')"
            ]
          },
          "metadata": {
            "tags": []
          },
          "execution_count": 30
        },
        {
          "output_type": "display_data",
          "data": {
            "image/png": "[encoded data removed]",
            "text/plain": [
              "<Figure size 432x288 with 1 Axes>"
            ]
          },
          "metadata": {
            "tags": [],
            "needs_background": "light"
          }
        }
      ]
    },
    {
      "cell_type": "code",
      "metadata": {
        "colab": {
          "base_uri": "https://localhost:8080/"
        },
        "id": "6di8SHMTz3sp",
        "outputId": "8a637132-1fd2-4643-f2f6-6dfdd8d3d280"
      },
      "source": [
        "#quarter\n",
        "chicago_df.resample('Q').size()"
      ],
      "execution_count": null,
      "outputs": [
        {
          "output_type": "execute_result",
          "data": {
            "text/plain": [
              "Date\n",
              "2001-03-31    24982\n",
              "2001-06-30      257\n",
              "2001-09-30      303\n",
              "2001-12-31      271\n",
              "2002-03-31     3064\n",
              "2002-06-30      830\n",
              "2002-09-30      150\n",
              "2002-12-31      130\n",
              "2003-03-31      402\n",
              "2003-06-30      174\n",
              "2003-09-30      186\n",
              "2003-12-31      217\n",
              "2004-03-31      416\n",
              "2004-06-30      232\n",
              "2004-09-30      266\n",
              "2004-12-31      293\n",
              "2005-03-31       60\n",
              "2005-06-30      109\n",
              "2005-09-30      126\n",
              "2005-12-31      249\n",
              "2006-03-31     4347\n",
              "2006-06-30    24459\n",
              "2006-09-30        0\n",
              "2006-12-31        1\n",
              "2007-03-31        0\n",
              "2007-06-30        0\n",
              "2007-09-30        0\n",
              "2007-12-31        0\n",
              "2008-03-31    19539\n",
              "2008-06-30     1591\n",
              "2008-09-30     1841\n",
              "2008-12-31     1968\n",
              "2009-03-31     1720\n",
              "2009-06-30     1369\n",
              "2009-09-30     1632\n",
              "2009-12-31     1501\n",
              "2010-03-31      205\n",
              "2010-06-30      237\n",
              "2010-09-30      291\n",
              "2010-12-31      760\n",
              "2011-03-31      145\n",
              "2011-06-30      134\n",
              "2011-09-30      120\n",
              "2011-12-31      136\n",
              "Freq: Q-DEC, dtype: int64"
            ]
          },
          "metadata": {
            "tags": []
          },
          "execution_count": 31
        }
      ]
    },
    {
      "cell_type": "code",
      "metadata": {
        "colab": {
          "base_uri": "https://localhost:8080/",
          "height": 312
        },
        "id": "KouO9jDT0BOM",
        "outputId": "e2a4d4f4-33dd-4fc8-b427-dc11b5d99f5d"
      },
      "source": [
        "# Resample is a Convenience method for frequency conversion and resampling of time series.\n",
        "\n",
        "plt.plot(chicago_df.resample('Q').size())\n",
        "plt.title('Crimes Count Per Quarter')\n",
        "plt.xlabel('Quarters')\n",
        "plt.ylabel('Number of Crimes')"
      ],
      "execution_count": null,
      "outputs": [
        {
          "output_type": "execute_result",
          "data": {
            "text/plain": [
              "Text(0, 0.5, 'Number of Crimes')"
            ]
          },
          "metadata": {
            "tags": []
          },
          "execution_count": 32
        },
        {
          "output_type": "display_data",
          "data": {
            "image/png": "[encoded data removed]",
            "text/plain": [
              "<Figure size 432x288 with 1 Axes>"
            ]
          },
          "metadata": {
            "tags": [],
            "needs_background": "light"
          }
        }
      ]
    },
    {
      "cell_type": "markdown",
      "metadata": {
        "id": "IYZroxmV0ML0"
      },
      "source": [
        " PREPARING THE DATA"
      ]
    },
    {
      "cell_type": "code",
      "metadata": {
        "id": "0qmhfSGi0FNr"
      },
      "source": [
        "chicago_prophet = chicago_df.resample('M').size().reset_index()"
      ],
      "execution_count": null,
      "outputs": []
    },
    {
      "cell_type": "code",
      "metadata": {
        "colab": {
          "base_uri": "https://localhost:8080/",
          "height": 402
        },
        "id": "lDBMzPRr0Xkm",
        "outputId": "672c4f88-4b62-4c16-c6fe-042769d47460"
      },
      "source": [
        "chicago_prophet"
      ],
      "execution_count": null,
      "outputs": [
        {
          "output_type": "execute_result",
          "data": {
            "text/html": [
              "<div>\n",
              "<style scoped>\n",
              "    .dataframe tbody tr th:only-of-type {\n",
              "        vertical-align: middle;\n",
              "    }\n",
              "\n",
              "    .dataframe tbody tr th {\n",
              "        vertical-align: top;\n",
              "    }\n",
              "\n",
              "    .dataframe thead th {\n",
              "        text-align: right;\n",
              "    }\n",
              "</style>\n",
              "<table border=\"1\" class=\"dataframe\">\n",
              "  <thead>\n",
              "    <tr style=\"text-align: right;\">\n",
              "      <th></th>\n",
              "      <th>Date</th>\n",
              "      <th>0</th>\n",
              "    </tr>\n",
              "  </thead>\n",
              "  <tbody>\n",
              "    <tr>\n",
              "      <th>0</th>\n",
              "      <td>2001-01-31</td>\n",
              "      <td>24872</td>\n",
              "    </tr>\n",
              "    <tr>\n",
              "      <th>1</th>\n",
              "      <td>2001-02-28</td>\n",
              "      <td>51</td>\n",
              "    </tr>\n",
              "    <tr>\n",
              "      <th>2</th>\n",
              "      <td>2001-03-31</td>\n",
              "      <td>59</td>\n",
              "    </tr>\n",
              "    <tr>\n",
              "      <th>3</th>\n",
              "      <td>2001-04-30</td>\n",
              "      <td>89</td>\n",
              "    </tr>\n",
              "    <tr>\n",
              "      <th>4</th>\n",
              "      <td>2001-05-31</td>\n",
              "      <td>62</td>\n",
              "    </tr>\n",
              "    <tr>\n",
              "      <th>...</th>\n",
              "      <td>...</td>\n",
              "      <td>...</td>\n",
              "    </tr>\n",
              "    <tr>\n",
              "      <th>127</th>\n",
              "      <td>2011-08-31</td>\n",
              "      <td>47</td>\n",
              "    </tr>\n",
              "    <tr>\n",
              "      <th>128</th>\n",
              "      <td>2011-09-30</td>\n",
              "      <td>38</td>\n",
              "    </tr>\n",
              "    <tr>\n",
              "      <th>129</th>\n",
              "      <td>2011-10-31</td>\n",
              "      <td>51</td>\n",
              "    </tr>\n",
              "    <tr>\n",
              "      <th>130</th>\n",
              "      <td>2011-11-30</td>\n",
              "      <td>42</td>\n",
              "    </tr>\n",
              "    <tr>\n",
              "      <th>131</th>\n",
              "      <td>2011-12-31</td>\n",
              "      <td>43</td>\n",
              "    </tr>\n",
              "  </tbody>\n",
              "</table>\n",
              "<p>132 rows × 2 columns</p>\n",
              "</div>"
            ],
            "text/plain": [
              "          Date      0\n",
              "0   2001-01-31  24872\n",
              "1   2001-02-28     51\n",
              "2   2001-03-31     59\n",
              "3   2001-04-30     89\n",
              "4   2001-05-31     62\n",
              "..         ...    ...\n",
              "127 2011-08-31     47\n",
              "128 2011-09-30     38\n",
              "129 2011-10-31     51\n",
              "130 2011-11-30     42\n",
              "131 2011-12-31     43\n",
              "\n",
              "[132 rows x 2 columns]"
            ]
          },
          "metadata": {
            "tags": []
          },
          "execution_count": 34
        }
      ]
    },
    {
      "cell_type": "code",
      "metadata": {
        "id": "_tozRWGK0a_2"
      },
      "source": [
        "chicago_prophet.columns = ['Date', 'Crime Count']"
      ],
      "execution_count": null,
      "outputs": []
    },
    {
      "cell_type": "code",
      "metadata": {
        "colab": {
          "base_uri": "https://localhost:8080/",
          "height": 402
        },
        "id": "KdkVhjDw0iAA",
        "outputId": "acc56057-8728-431d-d9e2-f70f6ac7d910"
      },
      "source": [
        "chicago_prophet"
      ],
      "execution_count": null,
      "outputs": [
        {
          "output_type": "execute_result",
          "data": {
            "text/html": [
              "<div>\n",
              "<style scoped>\n",
              "    .dataframe tbody tr th:only-of-type {\n",
              "        vertical-align: middle;\n",
              "    }\n",
              "\n",
              "    .dataframe tbody tr th {\n",
              "        vertical-align: top;\n",
              "    }\n",
              "\n",
              "    .dataframe thead th {\n",
              "        text-align: right;\n",
              "    }\n",
              "</style>\n",
              "<table border=\"1\" class=\"dataframe\">\n",
              "  <thead>\n",
              "    <tr style=\"text-align: right;\">\n",
              "      <th></th>\n",
              "      <th>Date</th>\n",
              "      <th>Crime Count</th>\n",
              "    </tr>\n",
              "  </thead>\n",
              "  <tbody>\n",
              "    <tr>\n",
              "      <th>0</th>\n",
              "      <td>2001-01-31</td>\n",
              "      <td>24872</td>\n",
              "    </tr>\n",
              "    <tr>\n",
              "      <th>1</th>\n",
              "      <td>2001-02-28</td>\n",
              "      <td>51</td>\n",
              "    </tr>\n",
              "    <tr>\n",
              "      <th>2</th>\n",
              "      <td>2001-03-31</td>\n",
              "      <td>59</td>\n",
              "    </tr>\n",
              "    <tr>\n",
              "      <th>3</th>\n",
              "      <td>2001-04-30</td>\n",
              "      <td>89</td>\n",
              "    </tr>\n",
              "    <tr>\n",
              "      <th>4</th>\n",
              "      <td>2001-05-31</td>\n",
              "      <td>62</td>\n",
              "    </tr>\n",
              "    <tr>\n",
              "      <th>...</th>\n",
              "      <td>...</td>\n",
              "      <td>...</td>\n",
              "    </tr>\n",
              "    <tr>\n",
              "      <th>127</th>\n",
              "      <td>2011-08-31</td>\n",
              "      <td>47</td>\n",
              "    </tr>\n",
              "    <tr>\n",
              "      <th>128</th>\n",
              "      <td>2011-09-30</td>\n",
              "      <td>38</td>\n",
              "    </tr>\n",
              "    <tr>\n",
              "      <th>129</th>\n",
              "      <td>2011-10-31</td>\n",
              "      <td>51</td>\n",
              "    </tr>\n",
              "    <tr>\n",
              "      <th>130</th>\n",
              "      <td>2011-11-30</td>\n",
              "      <td>42</td>\n",
              "    </tr>\n",
              "    <tr>\n",
              "      <th>131</th>\n",
              "      <td>2011-12-31</td>\n",
              "      <td>43</td>\n",
              "    </tr>\n",
              "  </tbody>\n",
              "</table>\n",
              "<p>132 rows × 2 columns</p>\n",
              "</div>"
            ],
            "text/plain": [
              "          Date  Crime Count\n",
              "0   2001-01-31        24872\n",
              "1   2001-02-28           51\n",
              "2   2001-03-31           59\n",
              "3   2001-04-30           89\n",
              "4   2001-05-31           62\n",
              "..         ...          ...\n",
              "127 2011-08-31           47\n",
              "128 2011-09-30           38\n",
              "129 2011-10-31           51\n",
              "130 2011-11-30           42\n",
              "131 2011-12-31           43\n",
              "\n",
              "[132 rows x 2 columns]"
            ]
          },
          "metadata": {
            "tags": []
          },
          "execution_count": 36
        }
      ]
    },
    {
      "cell_type": "code",
      "metadata": {
        "id": "uxa7gipJ0lcL"
      },
      "source": [
        "chicago_prophet_df = pd.DataFrame(chicago_prophet)"
      ],
      "execution_count": null,
      "outputs": []
    },
    {
      "cell_type": "code",
      "metadata": {
        "colab": {
          "base_uri": "https://localhost:8080/",
          "height": 402
        },
        "id": "4T3OyVd205cZ",
        "outputId": "4edadd65-1c6b-484e-87d3-707854062479"
      },
      "source": [
        "chicago_prophet_df"
      ],
      "execution_count": null,
      "outputs": [
        {
          "output_type": "execute_result",
          "data": {
            "text/html": [
              "<div>\n",
              "<style scoped>\n",
              "    .dataframe tbody tr th:only-of-type {\n",
              "        vertical-align: middle;\n",
              "    }\n",
              "\n",
              "    .dataframe tbody tr th {\n",
              "        vertical-align: top;\n",
              "    }\n",
              "\n",
              "    .dataframe thead th {\n",
              "        text-align: right;\n",
              "    }\n",
              "</style>\n",
              "<table border=\"1\" class=\"dataframe\">\n",
              "  <thead>\n",
              "    <tr style=\"text-align: right;\">\n",
              "      <th></th>\n",
              "      <th>Date</th>\n",
              "      <th>Crime Count</th>\n",
              "    </tr>\n",
              "  </thead>\n",
              "  <tbody>\n",
              "    <tr>\n",
              "      <th>0</th>\n",
              "      <td>2001-01-31</td>\n",
              "      <td>24872</td>\n",
              "    </tr>\n",
              "    <tr>\n",
              "      <th>1</th>\n",
              "      <td>2001-02-28</td>\n",
              "      <td>51</td>\n",
              "    </tr>\n",
              "    <tr>\n",
              "      <th>2</th>\n",
              "      <td>2001-03-31</td>\n",
              "      <td>59</td>\n",
              "    </tr>\n",
              "    <tr>\n",
              "      <th>3</th>\n",
              "      <td>2001-04-30</td>\n",
              "      <td>89</td>\n",
              "    </tr>\n",
              "    <tr>\n",
              "      <th>4</th>\n",
              "      <td>2001-05-31</td>\n",
              "      <td>62</td>\n",
              "    </tr>\n",
              "    <tr>\n",
              "      <th>...</th>\n",
              "      <td>...</td>\n",
              "      <td>...</td>\n",
              "    </tr>\n",
              "    <tr>\n",
              "      <th>127</th>\n",
              "      <td>2011-08-31</td>\n",
              "      <td>47</td>\n",
              "    </tr>\n",
              "    <tr>\n",
              "      <th>128</th>\n",
              "      <td>2011-09-30</td>\n",
              "      <td>38</td>\n",
              "    </tr>\n",
              "    <tr>\n",
              "      <th>129</th>\n",
              "      <td>2011-10-31</td>\n",
              "      <td>51</td>\n",
              "    </tr>\n",
              "    <tr>\n",
              "      <th>130</th>\n",
              "      <td>2011-11-30</td>\n",
              "      <td>42</td>\n",
              "    </tr>\n",
              "    <tr>\n",
              "      <th>131</th>\n",
              "      <td>2011-12-31</td>\n",
              "      <td>43</td>\n",
              "    </tr>\n",
              "  </tbody>\n",
              "</table>\n",
              "<p>132 rows × 2 columns</p>\n",
              "</div>"
            ],
            "text/plain": [
              "          Date  Crime Count\n",
              "0   2001-01-31        24872\n",
              "1   2001-02-28           51\n",
              "2   2001-03-31           59\n",
              "3   2001-04-30           89\n",
              "4   2001-05-31           62\n",
              "..         ...          ...\n",
              "127 2011-08-31           47\n",
              "128 2011-09-30           38\n",
              "129 2011-10-31           51\n",
              "130 2011-11-30           42\n",
              "131 2011-12-31           43\n",
              "\n",
              "[132 rows x 2 columns]"
            ]
          },
          "metadata": {
            "tags": []
          },
          "execution_count": 38
        }
      ]
    },
    {
      "cell_type": "markdown",
      "metadata": {
        "id": "dDVPPykE1Cdx"
      },
      "source": [
        "MAKE PREDICTIONS¶"
      ]
    },
    {
      "cell_type": "code",
      "metadata": {
        "colab": {
          "base_uri": "https://localhost:8080/"
        },
        "id": "TFBObQXQ0-Pg",
        "outputId": "e76f5641-4ec1-4555-86da-27079e06fe58"
      },
      "source": [
        "chicago_prophet_df.columns"
      ],
      "execution_count": null,
      "outputs": [
        {
          "output_type": "execute_result",
          "data": {
            "text/plain": [
              "Index(['Date', 'Crime Count'], dtype='object')"
            ]
          },
          "metadata": {
            "tags": []
          },
          "execution_count": 39
        }
      ]
    },
    {
      "cell_type": "code",
      "metadata": {
        "id": "Coa8TugD1F6y"
      },
      "source": [
        "chicago_prophet_df_final = chicago_prophet_df.rename(columns={'Date':'ds', 'Crime Count':'y'})\n"
      ],
      "execution_count": null,
      "outputs": []
    },
    {
      "cell_type": "code",
      "metadata": {
        "colab": {
          "base_uri": "https://localhost:8080/",
          "height": 402
        },
        "id": "U-DfRDjL1Mnf",
        "outputId": "a4d53244-09c8-4015-d22e-c434124e292c"
      },
      "source": [
        "chicago_prophet_df_final"
      ],
      "execution_count": null,
      "outputs": [
        {
          "output_type": "execute_result",
          "data": {
            "text/html": [
              "<div>\n",
              "<style scoped>\n",
              "    .dataframe tbody tr th:only-of-type {\n",
              "        vertical-align: middle;\n",
              "    }\n",
              "\n",
              "    .dataframe tbody tr th {\n",
              "        vertical-align: top;\n",
              "    }\n",
              "\n",
              "    .dataframe thead th {\n",
              "        text-align: right;\n",
              "    }\n",
              "</style>\n",
              "<table border=\"1\" class=\"dataframe\">\n",
              "  <thead>\n",
              "    <tr style=\"text-align: right;\">\n",
              "      <th></th>\n",
              "      <th>ds</th>\n",
              "      <th>y</th>\n",
              "    </tr>\n",
              "  </thead>\n",
              "  <tbody>\n",
              "    <tr>\n",
              "      <th>0</th>\n",
              "      <td>2001-01-31</td>\n",
              "      <td>24872</td>\n",
              "    </tr>\n",
              "    <tr>\n",
              "      <th>1</th>\n",
              "      <td>2001-02-28</td>\n",
              "      <td>51</td>\n",
              "    </tr>\n",
              "    <tr>\n",
              "      <th>2</th>\n",
              "      <td>2001-03-31</td>\n",
              "      <td>59</td>\n",
              "    </tr>\n",
              "    <tr>\n",
              "      <th>3</th>\n",
              "      <td>2001-04-30</td>\n",
              "      <td>89</td>\n",
              "    </tr>\n",
              "    <tr>\n",
              "      <th>4</th>\n",
              "      <td>2001-05-31</td>\n",
              "      <td>62</td>\n",
              "    </tr>\n",
              "    <tr>\n",
              "      <th>...</th>\n",
              "      <td>...</td>\n",
              "      <td>...</td>\n",
              "    </tr>\n",
              "    <tr>\n",
              "      <th>127</th>\n",
              "      <td>2011-08-31</td>\n",
              "      <td>47</td>\n",
              "    </tr>\n",
              "    <tr>\n",
              "      <th>128</th>\n",
              "      <td>2011-09-30</td>\n",
              "      <td>38</td>\n",
              "    </tr>\n",
              "    <tr>\n",
              "      <th>129</th>\n",
              "      <td>2011-10-31</td>\n",
              "      <td>51</td>\n",
              "    </tr>\n",
              "    <tr>\n",
              "      <th>130</th>\n",
              "      <td>2011-11-30</td>\n",
              "      <td>42</td>\n",
              "    </tr>\n",
              "    <tr>\n",
              "      <th>131</th>\n",
              "      <td>2011-12-31</td>\n",
              "      <td>43</td>\n",
              "    </tr>\n",
              "  </tbody>\n",
              "</table>\n",
              "<p>132 rows × 2 columns</p>\n",
              "</div>"
            ],
            "text/plain": [
              "            ds      y\n",
              "0   2001-01-31  24872\n",
              "1   2001-02-28     51\n",
              "2   2001-03-31     59\n",
              "3   2001-04-30     89\n",
              "4   2001-05-31     62\n",
              "..         ...    ...\n",
              "127 2011-08-31     47\n",
              "128 2011-09-30     38\n",
              "129 2011-10-31     51\n",
              "130 2011-11-30     42\n",
              "131 2011-12-31     43\n",
              "\n",
              "[132 rows x 2 columns]"
            ]
          },
          "metadata": {
            "tags": []
          },
          "execution_count": 41
        }
      ]
    },
    {
      "cell_type": "code",
      "metadata": {
        "colab": {
          "base_uri": "https://localhost:8080/"
        },
        "id": "W6zmfUxH1P60",
        "outputId": "f2a973f4-2eee-4488-f32e-dd6a2da38d4c"
      },
      "source": [
        "m = Prophet()\n",
        "m.fit(chicago_prophet_df_final)"
      ],
      "execution_count": null,
      "outputs": [
        {
          "output_type": "stream",
          "text": [
            "INFO:numexpr.utils:NumExpr defaulting to 2 threads.\n",
            "INFO:fbprophet:Disabling weekly seasonality. Run prophet with weekly_seasonality=True to override this.\n",
            "INFO:fbprophet:Disabling daily seasonality. Run prophet with daily_seasonality=True to override this.\n"
          ],
          "name": "stderr"
        },
        {
          "output_type": "execute_result",
          "data": {
            "text/plain": [
              "<fbprophet.forecaster.Prophet at 0x7fa46d5fc2b0>"
            ]
          },
          "metadata": {
            "tags": []
          },
          "execution_count": 42
        }
      ]
    },
    {
      "cell_type": "code",
      "metadata": {
        "id": "3GtC5lKD1TUl"
      },
      "source": [
        "# Forcasting into the future\n",
        "future = m.make_future_dataframe(periods=365*2)\n",
        "forecast = m.predict(future)"
      ],
      "execution_count": null,
      "outputs": []
    },
    {
      "cell_type": "code",
      "metadata": {
        "colab": {
          "base_uri": "https://localhost:8080/",
          "height": 590
        },
        "id": "rGzvAZ4q1e7n",
        "outputId": "b0f8e75d-ba35-4707-d1e3-ca2ac1c4b09b"
      },
      "source": [
        "forecast"
      ],
      "execution_count": null,
      "outputs": [
        {
          "output_type": "execute_result",
          "data": {
            "text/html": [
              "<div>\n",
              "<style scoped>\n",
              "    .dataframe tbody tr th:only-of-type {\n",
              "        vertical-align: middle;\n",
              "    }\n",
              "\n",
              "    .dataframe tbody tr th {\n",
              "        vertical-align: top;\n",
              "    }\n",
              "\n",
              "    .dataframe thead th {\n",
              "        text-align: right;\n",
              "    }\n",
              "</style>\n",
              "<table border=\"1\" class=\"dataframe\">\n",
              "  <thead>\n",
              "    <tr style=\"text-align: right;\">\n",
              "      <th></th>\n",
              "      <th>ds</th>\n",
              "      <th>trend</th>\n",
              "      <th>yhat_lower</th>\n",
              "      <th>yhat_upper</th>\n",
              "      <th>trend_lower</th>\n",
              "      <th>trend_upper</th>\n",
              "      <th>additive_terms</th>\n",
              "      <th>additive_terms_lower</th>\n",
              "      <th>additive_terms_upper</th>\n",
              "      <th>yearly</th>\n",
              "      <th>yearly_lower</th>\n",
              "      <th>yearly_upper</th>\n",
              "      <th>multiplicative_terms</th>\n",
              "      <th>multiplicative_terms_lower</th>\n",
              "      <th>multiplicative_terms_upper</th>\n",
              "      <th>yhat</th>\n",
              "    </tr>\n",
              "  </thead>\n",
              "  <tbody>\n",
              "    <tr>\n",
              "      <th>0</th>\n",
              "      <td>2001-01-31</td>\n",
              "      <td>1186.292252</td>\n",
              "      <td>618.774429</td>\n",
              "      <td>8648.909171</td>\n",
              "      <td>1186.292252</td>\n",
              "      <td>1186.292252</td>\n",
              "      <td>3399.080243</td>\n",
              "      <td>3399.080243</td>\n",
              "      <td>3399.080243</td>\n",
              "      <td>3399.080243</td>\n",
              "      <td>3399.080243</td>\n",
              "      <td>3399.080243</td>\n",
              "      <td>0.0</td>\n",
              "      <td>0.0</td>\n",
              "      <td>0.0</td>\n",
              "      <td>4585.372496</td>\n",
              "    </tr>\n",
              "    <tr>\n",
              "      <th>1</th>\n",
              "      <td>2001-02-28</td>\n",
              "      <td>1180.362332</td>\n",
              "      <td>-3075.564594</td>\n",
              "      <td>5154.101592</td>\n",
              "      <td>1180.362332</td>\n",
              "      <td>1180.362332</td>\n",
              "      <td>-309.826007</td>\n",
              "      <td>-309.826007</td>\n",
              "      <td>-309.826007</td>\n",
              "      <td>-309.826007</td>\n",
              "      <td>-309.826007</td>\n",
              "      <td>-309.826007</td>\n",
              "      <td>0.0</td>\n",
              "      <td>0.0</td>\n",
              "      <td>0.0</td>\n",
              "      <td>870.536325</td>\n",
              "    </tr>\n",
              "    <tr>\n",
              "      <th>2</th>\n",
              "      <td>2001-03-31</td>\n",
              "      <td>1173.797064</td>\n",
              "      <td>-3152.623752</td>\n",
              "      <td>5018.322557</td>\n",
              "      <td>1173.797064</td>\n",
              "      <td>1173.797064</td>\n",
              "      <td>-298.440489</td>\n",
              "      <td>-298.440489</td>\n",
              "      <td>-298.440489</td>\n",
              "      <td>-298.440489</td>\n",
              "      <td>-298.440489</td>\n",
              "      <td>-298.440489</td>\n",
              "      <td>0.0</td>\n",
              "      <td>0.0</td>\n",
              "      <td>0.0</td>\n",
              "      <td>875.356575</td>\n",
              "    </tr>\n",
              "    <tr>\n",
              "      <th>3</th>\n",
              "      <td>2001-04-30</td>\n",
              "      <td>1167.443578</td>\n",
              "      <td>-1434.611509</td>\n",
              "      <td>6459.888675</td>\n",
              "      <td>1167.443578</td>\n",
              "      <td>1167.443578</td>\n",
              "      <td>1555.839324</td>\n",
              "      <td>1555.839324</td>\n",
              "      <td>1555.839324</td>\n",
              "      <td>1555.839324</td>\n",
              "      <td>1555.839324</td>\n",
              "      <td>1555.839324</td>\n",
              "      <td>0.0</td>\n",
              "      <td>0.0</td>\n",
              "      <td>0.0</td>\n",
              "      <td>2723.282902</td>\n",
              "    </tr>\n",
              "    <tr>\n",
              "      <th>4</th>\n",
              "      <td>2001-05-31</td>\n",
              "      <td>1160.878309</td>\n",
              "      <td>-3431.546596</td>\n",
              "      <td>4730.726028</td>\n",
              "      <td>1160.878309</td>\n",
              "      <td>1160.878309</td>\n",
              "      <td>-553.852667</td>\n",
              "      <td>-553.852667</td>\n",
              "      <td>-553.852667</td>\n",
              "      <td>-553.852667</td>\n",
              "      <td>-553.852667</td>\n",
              "      <td>-553.852667</td>\n",
              "      <td>0.0</td>\n",
              "      <td>0.0</td>\n",
              "      <td>0.0</td>\n",
              "      <td>607.025642</td>\n",
              "    </tr>\n",
              "    <tr>\n",
              "      <th>...</th>\n",
              "      <td>...</td>\n",
              "      <td>...</td>\n",
              "      <td>...</td>\n",
              "      <td>...</td>\n",
              "      <td>...</td>\n",
              "      <td>...</td>\n",
              "      <td>...</td>\n",
              "      <td>...</td>\n",
              "      <td>...</td>\n",
              "      <td>...</td>\n",
              "      <td>...</td>\n",
              "      <td>...</td>\n",
              "      <td>...</td>\n",
              "      <td>...</td>\n",
              "      <td>...</td>\n",
              "      <td>...</td>\n",
              "    </tr>\n",
              "    <tr>\n",
              "      <th>857</th>\n",
              "      <td>2013-12-26</td>\n",
              "      <td>188.412655</td>\n",
              "      <td>-4175.708436</td>\n",
              "      <td>3903.719609</td>\n",
              "      <td>188.411856</td>\n",
              "      <td>188.413422</td>\n",
              "      <td>-343.297557</td>\n",
              "      <td>-343.297557</td>\n",
              "      <td>-343.297557</td>\n",
              "      <td>-343.297557</td>\n",
              "      <td>-343.297557</td>\n",
              "      <td>-343.297557</td>\n",
              "      <td>0.0</td>\n",
              "      <td>0.0</td>\n",
              "      <td>0.0</td>\n",
              "      <td>-154.884902</td>\n",
              "    </tr>\n",
              "    <tr>\n",
              "      <th>858</th>\n",
              "      <td>2013-12-27</td>\n",
              "      <td>188.200883</td>\n",
              "      <td>-4322.319025</td>\n",
              "      <td>3796.454709</td>\n",
              "      <td>188.200082</td>\n",
              "      <td>188.201652</td>\n",
              "      <td>-383.306260</td>\n",
              "      <td>-383.306260</td>\n",
              "      <td>-383.306260</td>\n",
              "      <td>-383.306260</td>\n",
              "      <td>-383.306260</td>\n",
              "      <td>-383.306260</td>\n",
              "      <td>0.0</td>\n",
              "      <td>0.0</td>\n",
              "      <td>0.0</td>\n",
              "      <td>-195.105377</td>\n",
              "    </tr>\n",
              "    <tr>\n",
              "      <th>859</th>\n",
              "      <td>2013-12-28</td>\n",
              "      <td>187.989110</td>\n",
              "      <td>-4550.296234</td>\n",
              "      <td>3683.830667</td>\n",
              "      <td>187.988308</td>\n",
              "      <td>187.989882</td>\n",
              "      <td>-424.933239</td>\n",
              "      <td>-424.933239</td>\n",
              "      <td>-424.933239</td>\n",
              "      <td>-424.933239</td>\n",
              "      <td>-424.933239</td>\n",
              "      <td>-424.933239</td>\n",
              "      <td>0.0</td>\n",
              "      <td>0.0</td>\n",
              "      <td>0.0</td>\n",
              "      <td>-236.944129</td>\n",
              "    </tr>\n",
              "    <tr>\n",
              "      <th>860</th>\n",
              "      <td>2013-12-29</td>\n",
              "      <td>187.777338</td>\n",
              "      <td>-4132.729486</td>\n",
              "      <td>3948.791213</td>\n",
              "      <td>187.776533</td>\n",
              "      <td>187.778111</td>\n",
              "      <td>-466.649467</td>\n",
              "      <td>-466.649467</td>\n",
              "      <td>-466.649467</td>\n",
              "      <td>-466.649467</td>\n",
              "      <td>-466.649467</td>\n",
              "      <td>-466.649467</td>\n",
              "      <td>0.0</td>\n",
              "      <td>0.0</td>\n",
              "      <td>0.0</td>\n",
              "      <td>-278.872129</td>\n",
              "    </tr>\n",
              "    <tr>\n",
              "      <th>861</th>\n",
              "      <td>2013-12-30</td>\n",
              "      <td>187.565565</td>\n",
              "      <td>-4353.169544</td>\n",
              "      <td>3951.870539</td>\n",
              "      <td>187.564759</td>\n",
              "      <td>187.566339</td>\n",
              "      <td>-506.685741</td>\n",
              "      <td>-506.685741</td>\n",
              "      <td>-506.685741</td>\n",
              "      <td>-506.685741</td>\n",
              "      <td>-506.685741</td>\n",
              "      <td>-506.685741</td>\n",
              "      <td>0.0</td>\n",
              "      <td>0.0</td>\n",
              "      <td>0.0</td>\n",
              "      <td>-319.120175</td>\n",
              "    </tr>\n",
              "  </tbody>\n",
              "</table>\n",
              "<p>862 rows × 16 columns</p>\n",
              "</div>"
            ],
            "text/plain": [
              "            ds        trend  ...  multiplicative_terms_upper         yhat\n",
              "0   2001-01-31  1186.292252  ...                         0.0  4585.372496\n",
              "1   2001-02-28  1180.362332  ...                         0.0   870.536325\n",
              "2   2001-03-31  1173.797064  ...                         0.0   875.356575\n",
              "3   2001-04-30  1167.443578  ...                         0.0  2723.282902\n",
              "4   2001-05-31  1160.878309  ...                         0.0   607.025642\n",
              "..         ...          ...  ...                         ...          ...\n",
              "857 2013-12-26   188.412655  ...                         0.0  -154.884902\n",
              "858 2013-12-27   188.200883  ...                         0.0  -195.105377\n",
              "859 2013-12-28   187.989110  ...                         0.0  -236.944129\n",
              "860 2013-12-29   187.777338  ...                         0.0  -278.872129\n",
              "861 2013-12-30   187.565565  ...                         0.0  -319.120175\n",
              "\n",
              "[862 rows x 16 columns]"
            ]
          },
          "metadata": {
            "tags": []
          },
          "execution_count": 48
        }
      ]
    },
    {
      "cell_type": "code",
      "metadata": {
        "colab": {
          "base_uri": "https://localhost:8080/",
          "height": 391
        },
        "id": "seCCOZle1jDU",
        "outputId": "3dc2fc75-13d6-41fc-f1be-2465b0fcfb78"
      },
      "source": [
        "figure = m.plot(forecast, xlabel='Date', ylabel='Crime Rate')"
      ],
      "execution_count": null,
      "outputs": [
        {
          "output_type": "display_data",
          "data": {
            "image/png": "[encoded data removed]",
            "text/plain": [
              "<Figure size 720x432 with 1 Axes>"
            ]
          },
          "metadata": {
            "tags": []
          }
        }
      ]
    },
    {
      "cell_type": "code",
      "metadata": {
        "colab": {
          "base_uri": "https://localhost:8080/",
          "height": 434
        },
        "id": "OArxdiPt1pOs",
        "outputId": "d987d9a8-eafb-431b-d28a-3ce1346dc07d"
      },
      "source": [
        "figure3 = m.plot_components(forecast)"
      ],
      "execution_count": null,
      "outputs": [
        {
          "output_type": "display_data",
          "data": {
            "image/png": "[encoded data removed]",
            "text/plain": [
              "<Figure size 648x432 with 2 Axes>"
            ]
          },
          "metadata": {
            "tags": []
          }
        }
      ]
    },
    {
      "cell_type": "code",
      "metadata": {
        "id": "PWhgnxj41vjI"
      },
      "source": [
        ""
      ],
      "execution_count": null,
      "outputs": []
    }
  ]
}